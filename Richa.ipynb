{
 "cells": [
  {
   "cell_type": "code",
   "execution_count": 73,
   "metadata": {},
   "outputs": [],
   "source": [
    "import pandas as pd\n",
    "import numpy as np\n",
    "ids = pd.read_csv(r'C:\\Users\\satish angadi\\Downloads\\IDS_prj\\ds_project1.csv')\n",
    "mids = ids.fillna('NaN')\n",
    "mids.to_csv('modifiedids.csv',index=False)"
   ]
  },
  {
   "cell_type": "code",
   "execution_count": 74,
   "metadata": {},
   "outputs": [
    {
     "data": {
      "text/html": [
       "<div>\n",
       "<style scoped>\n",
       "    .dataframe tbody tr th:only-of-type {\n",
       "        vertical-align: middle;\n",
       "    }\n",
       "\n",
       "    .dataframe tbody tr th {\n",
       "        vertical-align: top;\n",
       "    }\n",
       "\n",
       "    .dataframe thead th {\n",
       "        text-align: right;\n",
       "    }\n",
       "</style>\n",
       "<table border=\"1\" class=\"dataframe\">\n",
       "  <thead>\n",
       "    <tr style=\"text-align: right;\">\n",
       "      <th></th>\n",
       "      <th>Name</th>\n",
       "      <th>Platform</th>\n",
       "      <th>Year_of_Release</th>\n",
       "      <th>Genre</th>\n",
       "      <th>Publisher</th>\n",
       "      <th>NA_Sales</th>\n",
       "      <th>EU_Sales</th>\n",
       "      <th>JP_Sales</th>\n",
       "      <th>Other_Sales</th>\n",
       "      <th>Global_Sales</th>\n",
       "      <th>Critic_Score</th>\n",
       "      <th>Critic_Count</th>\n",
       "      <th>User_Score</th>\n",
       "      <th>User_Count</th>\n",
       "      <th>Developer</th>\n",
       "      <th>Rating</th>\n",
       "    </tr>\n",
       "  </thead>\n",
       "  <tbody>\n",
       "    <tr>\n",
       "      <td>0</td>\n",
       "      <td>Call of Duty: Black Ops 3</td>\n",
       "      <td>PS4</td>\n",
       "      <td>2015</td>\n",
       "      <td>Shooter</td>\n",
       "      <td>Activision</td>\n",
       "      <td>6.03</td>\n",
       "      <td>5.86</td>\n",
       "      <td>0.36</td>\n",
       "      <td>2.38</td>\n",
       "      <td>14.63</td>\n",
       "      <td>NaN</td>\n",
       "      <td>NaN</td>\n",
       "      <td>NaN</td>\n",
       "      <td>NaN</td>\n",
       "      <td>NaN</td>\n",
       "      <td>NaN</td>\n",
       "    </tr>\n",
       "    <tr>\n",
       "      <td>1</td>\n",
       "      <td>Grand Theft Auto V</td>\n",
       "      <td>PS4</td>\n",
       "      <td>2014</td>\n",
       "      <td>Action</td>\n",
       "      <td>Take-Two Interactive</td>\n",
       "      <td>3.96</td>\n",
       "      <td>6.31</td>\n",
       "      <td>0.38</td>\n",
       "      <td>1.97</td>\n",
       "      <td>12.61</td>\n",
       "      <td>97</td>\n",
       "      <td>66</td>\n",
       "      <td>8.3</td>\n",
       "      <td>2899</td>\n",
       "      <td>Rockstar North</td>\n",
       "      <td>M</td>\n",
       "    </tr>\n",
       "    <tr>\n",
       "      <td>2</td>\n",
       "      <td>Pokemon Omega Ruby/Pokemon Alpha Sapphire</td>\n",
       "      <td>3DS</td>\n",
       "      <td>2014</td>\n",
       "      <td>Role-Playing</td>\n",
       "      <td>Nintendo</td>\n",
       "      <td>4.35</td>\n",
       "      <td>3.49</td>\n",
       "      <td>3.10</td>\n",
       "      <td>0.74</td>\n",
       "      <td>11.68</td>\n",
       "      <td>NaN</td>\n",
       "      <td>NaN</td>\n",
       "      <td>NaN</td>\n",
       "      <td>NaN</td>\n",
       "      <td>NaN</td>\n",
       "      <td>NaN</td>\n",
       "    </tr>\n",
       "    <tr>\n",
       "      <td>3</td>\n",
       "      <td>FIFA 16</td>\n",
       "      <td>PS4</td>\n",
       "      <td>2015</td>\n",
       "      <td>Sports</td>\n",
       "      <td>Electronic Arts</td>\n",
       "      <td>1.12</td>\n",
       "      <td>6.12</td>\n",
       "      <td>0.06</td>\n",
       "      <td>1.28</td>\n",
       "      <td>8.57</td>\n",
       "      <td>82</td>\n",
       "      <td>42</td>\n",
       "      <td>4.3</td>\n",
       "      <td>896</td>\n",
       "      <td>EA Sports</td>\n",
       "      <td>E</td>\n",
       "    </tr>\n",
       "    <tr>\n",
       "      <td>4</td>\n",
       "      <td>Star Wars Battlefront (2015)</td>\n",
       "      <td>PS4</td>\n",
       "      <td>2015</td>\n",
       "      <td>Shooter</td>\n",
       "      <td>Electronic Arts</td>\n",
       "      <td>2.99</td>\n",
       "      <td>3.49</td>\n",
       "      <td>0.22</td>\n",
       "      <td>1.28</td>\n",
       "      <td>7.98</td>\n",
       "      <td>NaN</td>\n",
       "      <td>NaN</td>\n",
       "      <td>NaN</td>\n",
       "      <td>NaN</td>\n",
       "      <td>NaN</td>\n",
       "      <td>NaN</td>\n",
       "    </tr>\n",
       "  </tbody>\n",
       "</table>\n",
       "</div>"
      ],
      "text/plain": [
       "                                        Name Platform  Year_of_Release  \\\n",
       "0                  Call of Duty: Black Ops 3      PS4             2015   \n",
       "1                         Grand Theft Auto V      PS4             2014   \n",
       "2  Pokemon Omega Ruby/Pokemon Alpha Sapphire      3DS             2014   \n",
       "3                                    FIFA 16      PS4             2015   \n",
       "4               Star Wars Battlefront (2015)      PS4             2015   \n",
       "\n",
       "          Genre             Publisher  NA_Sales  EU_Sales  JP_Sales  \\\n",
       "0       Shooter            Activision      6.03      5.86      0.36   \n",
       "1        Action  Take-Two Interactive      3.96      6.31      0.38   \n",
       "2  Role-Playing              Nintendo      4.35      3.49      3.10   \n",
       "3        Sports       Electronic Arts      1.12      6.12      0.06   \n",
       "4       Shooter       Electronic Arts      2.99      3.49      0.22   \n",
       "\n",
       "   Other_Sales  Global_Sales Critic_Score Critic_Count User_Score User_Count  \\\n",
       "0         2.38         14.63          NaN          NaN        NaN        NaN   \n",
       "1         1.97         12.61           97           66        8.3       2899   \n",
       "2         0.74         11.68          NaN          NaN        NaN        NaN   \n",
       "3         1.28          8.57           82           42        4.3        896   \n",
       "4         1.28          7.98          NaN          NaN        NaN        NaN   \n",
       "\n",
       "        Developer Rating  \n",
       "0             NaN    NaN  \n",
       "1  Rockstar North      M  \n",
       "2             NaN    NaN  \n",
       "3       EA Sports      E  \n",
       "4             NaN    NaN  "
      ]
     },
     "execution_count": 74,
     "metadata": {},
     "output_type": "execute_result"
    }
   ],
   "source": [
    "mids.head(5)"
   ]
  },
  {
   "cell_type": "code",
   "execution_count": 75,
   "metadata": {},
   "outputs": [
    {
     "data": {
      "text/html": [
       "<div>\n",
       "<style scoped>\n",
       "    .dataframe tbody tr th:only-of-type {\n",
       "        vertical-align: middle;\n",
       "    }\n",
       "\n",
       "    .dataframe tbody tr th {\n",
       "        vertical-align: top;\n",
       "    }\n",
       "\n",
       "    .dataframe thead th {\n",
       "        text-align: right;\n",
       "    }\n",
       "</style>\n",
       "<table border=\"1\" class=\"dataframe\">\n",
       "  <thead>\n",
       "    <tr style=\"text-align: right;\">\n",
       "      <th></th>\n",
       "      <th>Name</th>\n",
       "      <th>Platform</th>\n",
       "      <th>Year_of_Release</th>\n",
       "      <th>Genre</th>\n",
       "      <th>Publisher</th>\n",
       "      <th>NA_Sales</th>\n",
       "      <th>EU_Sales</th>\n",
       "      <th>JP_Sales</th>\n",
       "      <th>Other_Sales</th>\n",
       "      <th>Global_Sales</th>\n",
       "      <th>Critic_Score</th>\n",
       "      <th>Critic_Count</th>\n",
       "      <th>User_Score</th>\n",
       "      <th>User_Count</th>\n",
       "      <th>Developer</th>\n",
       "      <th>Rating</th>\n",
       "    </tr>\n",
       "  </thead>\n",
       "  <tbody>\n",
       "  </tbody>\n",
       "</table>\n",
       "</div>"
      ],
      "text/plain": [
       "Empty DataFrame\n",
       "Columns: [Name, Platform, Year_of_Release, Genre, Publisher, NA_Sales, EU_Sales, JP_Sales, Other_Sales, Global_Sales, Critic_Score, Critic_Count, User_Score, User_Count, Developer, Rating]\n",
       "Index: []"
      ]
     },
     "execution_count": 75,
     "metadata": {},
     "output_type": "execute_result"
    }
   ],
   "source": [
    "mids[mids.isnull().any(axis=1)]"
   ]
  },
  {
   "cell_type": "code",
   "execution_count": 76,
   "metadata": {},
   "outputs": [
    {
     "data": {
      "text/plain": [
       "Name                 0\n",
       "Platform             0\n",
       "Year_of_Release      0\n",
       "Genre                0\n",
       "Publisher            2\n",
       "NA_Sales             0\n",
       "EU_Sales             0\n",
       "JP_Sales             0\n",
       "Other_Sales          0\n",
       "Global_Sales         0\n",
       "Critic_Score       975\n",
       "Critic_Count       975\n",
       "User_Score         805\n",
       "User_Count         805\n",
       "Developer          689\n",
       "Rating             751\n",
       "dtype: int64"
      ]
     },
     "execution_count": 76,
     "metadata": {},
     "output_type": "execute_result"
    }
   ],
   "source": [
    "ids.isnull().sum()"
   ]
  },
  {
   "cell_type": "code",
   "execution_count": 77,
   "metadata": {},
   "outputs": [],
   "source": [
    "ids['Critic_Score'] = ids['Critic_Score'].fillna((ids['Critic_Score'].mean()))\n",
    "ids['Critic_Count'] = ids['Critic_Count'].fillna((ids['Critic_Count'].mean()))\n",
    "ids['User_Count'] = ids['User_Count'].fillna((ids['User_Count'].mean()))\n",
    "ids['User_Score'] = ids['User_Score'].fillna((ids['User_Score'].mean()))"
   ]
  },
  {
   "cell_type": "code",
   "execution_count": 78,
   "metadata": {},
   "outputs": [
    {
     "data": {
      "text/html": [
       "<div>\n",
       "<style scoped>\n",
       "    .dataframe tbody tr th:only-of-type {\n",
       "        vertical-align: middle;\n",
       "    }\n",
       "\n",
       "    .dataframe tbody tr th {\n",
       "        vertical-align: top;\n",
       "    }\n",
       "\n",
       "    .dataframe thead th {\n",
       "        text-align: right;\n",
       "    }\n",
       "</style>\n",
       "<table border=\"1\" class=\"dataframe\">\n",
       "  <thead>\n",
       "    <tr style=\"text-align: right;\">\n",
       "      <th></th>\n",
       "      <th>Name</th>\n",
       "      <th>Platform</th>\n",
       "      <th>Year_of_Release</th>\n",
       "      <th>Genre</th>\n",
       "      <th>Publisher</th>\n",
       "      <th>NA_Sales</th>\n",
       "      <th>EU_Sales</th>\n",
       "      <th>JP_Sales</th>\n",
       "      <th>Other_Sales</th>\n",
       "      <th>Global_Sales</th>\n",
       "      <th>Critic_Score</th>\n",
       "      <th>Critic_Count</th>\n",
       "      <th>User_Score</th>\n",
       "      <th>User_Count</th>\n",
       "      <th>Developer</th>\n",
       "      <th>Rating</th>\n",
       "    </tr>\n",
       "  </thead>\n",
       "  <tbody>\n",
       "    <tr>\n",
       "      <td>0</td>\n",
       "      <td>Call of Duty: Black Ops 3</td>\n",
       "      <td>PS4</td>\n",
       "      <td>2015</td>\n",
       "      <td>Shooter</td>\n",
       "      <td>Activision</td>\n",
       "      <td>6.03</td>\n",
       "      <td>5.86</td>\n",
       "      <td>0.36</td>\n",
       "      <td>2.38</td>\n",
       "      <td>14.63</td>\n",
       "      <td>72.306407</td>\n",
       "      <td>30.637883</td>\n",
       "      <td>6.623536</td>\n",
       "      <td>342.925676</td>\n",
       "      <td>NaN</td>\n",
       "      <td>NaN</td>\n",
       "    </tr>\n",
       "    <tr>\n",
       "      <td>1</td>\n",
       "      <td>Grand Theft Auto V</td>\n",
       "      <td>PS4</td>\n",
       "      <td>2014</td>\n",
       "      <td>Action</td>\n",
       "      <td>Take-Two Interactive</td>\n",
       "      <td>3.96</td>\n",
       "      <td>6.31</td>\n",
       "      <td>0.38</td>\n",
       "      <td>1.97</td>\n",
       "      <td>12.61</td>\n",
       "      <td>97.000000</td>\n",
       "      <td>66.000000</td>\n",
       "      <td>8.300000</td>\n",
       "      <td>2899.000000</td>\n",
       "      <td>Rockstar North</td>\n",
       "      <td>M</td>\n",
       "    </tr>\n",
       "    <tr>\n",
       "      <td>2</td>\n",
       "      <td>Pokemon Omega Ruby/Pokemon Alpha Sapphire</td>\n",
       "      <td>3DS</td>\n",
       "      <td>2014</td>\n",
       "      <td>Role-Playing</td>\n",
       "      <td>Nintendo</td>\n",
       "      <td>4.35</td>\n",
       "      <td>3.49</td>\n",
       "      <td>3.10</td>\n",
       "      <td>0.74</td>\n",
       "      <td>11.68</td>\n",
       "      <td>72.306407</td>\n",
       "      <td>30.637883</td>\n",
       "      <td>6.623536</td>\n",
       "      <td>342.925676</td>\n",
       "      <td>NaN</td>\n",
       "      <td>NaN</td>\n",
       "    </tr>\n",
       "    <tr>\n",
       "      <td>3</td>\n",
       "      <td>FIFA 16</td>\n",
       "      <td>PS4</td>\n",
       "      <td>2015</td>\n",
       "      <td>Sports</td>\n",
       "      <td>Electronic Arts</td>\n",
       "      <td>1.12</td>\n",
       "      <td>6.12</td>\n",
       "      <td>0.06</td>\n",
       "      <td>1.28</td>\n",
       "      <td>8.57</td>\n",
       "      <td>82.000000</td>\n",
       "      <td>42.000000</td>\n",
       "      <td>4.300000</td>\n",
       "      <td>896.000000</td>\n",
       "      <td>EA Sports</td>\n",
       "      <td>E</td>\n",
       "    </tr>\n",
       "    <tr>\n",
       "      <td>4</td>\n",
       "      <td>Star Wars Battlefront (2015)</td>\n",
       "      <td>PS4</td>\n",
       "      <td>2015</td>\n",
       "      <td>Shooter</td>\n",
       "      <td>Electronic Arts</td>\n",
       "      <td>2.99</td>\n",
       "      <td>3.49</td>\n",
       "      <td>0.22</td>\n",
       "      <td>1.28</td>\n",
       "      <td>7.98</td>\n",
       "      <td>72.306407</td>\n",
       "      <td>30.637883</td>\n",
       "      <td>6.623536</td>\n",
       "      <td>342.925676</td>\n",
       "      <td>NaN</td>\n",
       "      <td>NaN</td>\n",
       "    </tr>\n",
       "  </tbody>\n",
       "</table>\n",
       "</div>"
      ],
      "text/plain": [
       "                                        Name Platform  Year_of_Release  \\\n",
       "0                  Call of Duty: Black Ops 3      PS4             2015   \n",
       "1                         Grand Theft Auto V      PS4             2014   \n",
       "2  Pokemon Omega Ruby/Pokemon Alpha Sapphire      3DS             2014   \n",
       "3                                    FIFA 16      PS4             2015   \n",
       "4               Star Wars Battlefront (2015)      PS4             2015   \n",
       "\n",
       "          Genre             Publisher  NA_Sales  EU_Sales  JP_Sales  \\\n",
       "0       Shooter            Activision      6.03      5.86      0.36   \n",
       "1        Action  Take-Two Interactive      3.96      6.31      0.38   \n",
       "2  Role-Playing              Nintendo      4.35      3.49      3.10   \n",
       "3        Sports       Electronic Arts      1.12      6.12      0.06   \n",
       "4       Shooter       Electronic Arts      2.99      3.49      0.22   \n",
       "\n",
       "   Other_Sales  Global_Sales  Critic_Score  Critic_Count  User_Score  \\\n",
       "0         2.38         14.63     72.306407     30.637883    6.623536   \n",
       "1         1.97         12.61     97.000000     66.000000    8.300000   \n",
       "2         0.74         11.68     72.306407     30.637883    6.623536   \n",
       "3         1.28          8.57     82.000000     42.000000    4.300000   \n",
       "4         1.28          7.98     72.306407     30.637883    6.623536   \n",
       "\n",
       "    User_Count       Developer Rating  \n",
       "0   342.925676             NaN    NaN  \n",
       "1  2899.000000  Rockstar North      M  \n",
       "2   342.925676             NaN    NaN  \n",
       "3   896.000000       EA Sports      E  \n",
       "4   342.925676             NaN    NaN  "
      ]
     },
     "execution_count": 78,
     "metadata": {},
     "output_type": "execute_result"
    }
   ],
   "source": [
    "ids.head(5)"
   ]
  },
  {
   "cell_type": "code",
   "execution_count": 50,
   "metadata": {},
   "outputs": [],
   "source": [
    "ids.fillna(method='bfill', inplace=True)"
   ]
  },
  {
   "cell_type": "code",
   "execution_count": 51,
   "metadata": {},
   "outputs": [
    {
     "data": {
      "text/plain": [
       "Name               0\n",
       "Platform           0\n",
       "Year_of_Release    0\n",
       "Genre              0\n",
       "Publisher          0\n",
       "NA_Sales           0\n",
       "EU_Sales           0\n",
       "JP_Sales           0\n",
       "Other_Sales        0\n",
       "Global_Sales       0\n",
       "Critic_Score       0\n",
       "Critic_Count       0\n",
       "User_Score         0\n",
       "User_Count         0\n",
       "Developer          0\n",
       "Rating             0\n",
       "dtype: int64"
      ]
     },
     "execution_count": 51,
     "metadata": {},
     "output_type": "execute_result"
    }
   ],
   "source": [
    "ids.isnull().sum()"
   ]
  },
  {
   "cell_type": "code",
   "execution_count": 52,
   "metadata": {},
   "outputs": [],
   "source": [
    "import matplotlib"
   ]
  },
  {
   "cell_type": "code",
   "execution_count": 79,
   "metadata": {},
   "outputs": [
    {
     "data": {
      "text/plain": [
       "<matplotlib.axes._subplots.AxesSubplot at 0x26ad1925448>"
      ]
     },
     "execution_count": 79,
     "metadata": {},
     "output_type": "execute_result"
    },
    {
     "data": {
      "image/png": "[encoded data removed]",
      "text/plain": [
       "<Figure size 432x288 with 1 Axes>"
      ]
     },
     "metadata": {
      "needs_background": "light"
     },
     "output_type": "display_data"
    }
   ],
   "source": [
    "ids['NA_Sales'].plot.hist()"
   ]
  },
  {
   "cell_type": "code",
   "execution_count": 54,
   "metadata": {},
   "outputs": [
    {
     "data": {
      "text/plain": [
       "<matplotlib.axes._subplots.AxesSubplot at 0x26accbe7bc8>"
      ]
     },
     "execution_count": 54,
     "metadata": {},
     "output_type": "execute_result"
    },
    {
     "data": {
      "image/png": "[encoded data removed]",
      "text/plain": [
       "<Figure size 432x288 with 1 Axes>"
      ]
     },
     "metadata": {
      "needs_background": "light"
     },
     "output_type": "display_data"
    }
   ],
   "source": [
    "ids['Critic_Count'].plot.hist()\n"
   ]
  },
  {
   "cell_type": "code",
   "execution_count": 55,
   "metadata": {},
   "outputs": [
    {
     "data": {
      "text/plain": [
       "<matplotlib.axes._subplots.AxesSubplot at 0x26acdbff608>"
      ]
     },
     "execution_count": 55,
     "metadata": {},
     "output_type": "execute_result"
    },
    {
     "data": {
      "image/png": "[encoded data removed]",
      "text/plain": [
       "<Figure size 432x288 with 1 Axes>"
      ]
     },
     "metadata": {
      "needs_background": "light"
     },
     "output_type": "display_data"
    }
   ],
   "source": [
    "ids['Global_Sales'].plot.hist()"
   ]
  },
  {
   "cell_type": "code",
   "execution_count": 56,
   "metadata": {},
   "outputs": [],
   "source": [
    "from matplotlib import pyplot\n",
    "from statsmodels.graphics.gofplots import qqplot"
   ]
  },
  {
   "cell_type": "code",
   "execution_count": 57,
   "metadata": {},
   "outputs": [
    {
     "data": {
      "image/png": "[encoded data removed]",
      "text/plain": [
       "<Figure size 432x288 with 1 Axes>"
      ]
     },
     "execution_count": 57,
     "metadata": {},
     "output_type": "execute_result"
    },
    {
     "data": {
      "image/png": "[encoded data removed]",
      "text/plain": [
       "<Figure size 432x288 with 1 Axes>"
      ]
     },
     "metadata": {
      "needs_background": "light"
     },
     "output_type": "display_data"
    }
   ],
   "source": [
    "qqplot(ids['Critic_Count'],line='s')"
   ]
  },
  {
   "cell_type": "code",
   "execution_count": 58,
   "metadata": {},
   "outputs": [
    {
     "data": {
      "text/plain": [
       "<matplotlib.axes._subplots.AxesSubplot at 0x26ace8d1048>"
      ]
     },
     "execution_count": 58,
     "metadata": {},
     "output_type": "execute_result"
    },
    {
     "data": {
      "image/png": "[encoded data removed]",
      "text/plain": [
       "<Figure size 432x288 with 1 Axes>"
      ]
     },
     "metadata": {
      "needs_background": "light"
     },
     "output_type": "display_data"
    }
   ],
   "source": [
    "ids['User_Score'].plot.bar()"
   ]
  },
  {
   "cell_type": "code",
   "execution_count": 16,
   "metadata": {},
   "outputs": [
    {
     "data": {
      "text/plain": [
       "<matplotlib.axes._subplots.AxesSubplot at 0x26ac5f3eb88>"
      ]
     },
     "execution_count": 16,
     "metadata": {},
     "output_type": "execute_result"
    },
    {
     "data": {
      "image/png": "[encoded data removed]",
      "text/plain": [
       "<Figure size 432x288 with 1 Axes>"
      ]
     },
     "metadata": {},
     "output_type": "display_data"
    }
   ],
   "source": [
    "ids['User_Count'].plot.pie()"
   ]
  },
  {
   "cell_type": "code",
   "execution_count": 17,
   "metadata": {},
   "outputs": [
    {
     "data": {
      "text/plain": [
       "<matplotlib.axes._subplots.AxesSubplot at 0x26ac942e548>"
      ]
     },
     "execution_count": 17,
     "metadata": {},
     "output_type": "execute_result"
    },
    {
     "data": {
      "image/png": "[encoded data removed]",
      "text/plain": [
       "<Figure size 432x288 with 1 Axes>"
      ]
     },
     "metadata": {
      "needs_background": "light"
     },
     "output_type": "display_data"
    }
   ],
   "source": [
    "ids['NA_Sales'].plot.bar()"
   ]
  },
  {
   "cell_type": "code",
   "execution_count": 59,
   "metadata": {},
   "outputs": [
    {
     "data": {
      "text/plain": [
       "count    1693.000000\n",
       "mean     2014.959835\n",
       "std         0.812603\n",
       "min      2014.000000\n",
       "25%      2014.000000\n",
       "50%      2015.000000\n",
       "75%      2016.000000\n",
       "max      2020.000000\n",
       "Name: Year_of_Release, dtype: float64"
      ]
     },
     "execution_count": 59,
     "metadata": {},
     "output_type": "execute_result"
    }
   ],
   "source": [
    "ids['Year_of_Release'].describe()"
   ]
  },
  {
   "cell_type": "code",
   "execution_count": 60,
   "metadata": {},
   "outputs": [
    {
     "data": {
      "text/plain": [
       "0       2015\n",
       "1       2014\n",
       "2       2014\n",
       "3       2015\n",
       "4       2015\n",
       "        ... \n",
       "1688    2016\n",
       "1689    2014\n",
       "1690    2016\n",
       "1691    2016\n",
       "1692    2016\n",
       "Name: Year_of_Release, Length: 1693, dtype: object"
      ]
     },
     "execution_count": 60,
     "metadata": {},
     "output_type": "execute_result"
    }
   ],
   "source": [
    "ids['Year_of_Release'].astype(str)"
   ]
  },
  {
   "cell_type": "code",
   "execution_count": 61,
   "metadata": {},
   "outputs": [],
   "source": [
    "ptr1=ids.loc[ids['Year_of_Release'].isin(['2014','2015','2016'])]"
   ]
  },
  {
   "cell_type": "code",
   "execution_count": 62,
   "metadata": {},
   "outputs": [
    {
     "name": "stdout",
     "output_type": "stream",
     "text": [
      "                                         Name Platform  Year_of_Release  \\\n",
      "0                   Call of Duty: Black Ops 3      PS4             2015   \n",
      "1                          Grand Theft Auto V      PS4             2014   \n",
      "2   Pokemon Omega Ruby/Pokemon Alpha Sapphire      3DS             2014   \n",
      "3                                     FIFA 16      PS4             2015   \n",
      "4                Star Wars Battlefront (2015)      PS4             2015   \n",
      "5              Call of Duty: Advanced Warfare      PS4             2014   \n",
      "6                                     FIFA 17      PS4             2016   \n",
      "7         Super Smash Bros. for Wii U and 3DS      3DS             2014   \n",
      "8                   Call of Duty: Black Ops 3     XOne             2015   \n",
      "9                                   Fallout 4      PS4             2015   \n",
      "10                           Pokemon Sun/Moon      3DS             2016   \n",
      "11                               Mario Kart 8     WiiU             2014   \n",
      "12                                    FIFA 15      PS4             2014   \n",
      "13                                    Destiny      PS4             2014   \n",
      "14                         Grand Theft Auto V     XOne             2014   \n",
      "15                 Uncharted 4: A Thief's End      PS4             2016   \n",
      "16             Call of Duty: Advanced Warfare     XOne             2014   \n",
      "17                                  Minecraft      PS3             2014   \n",
      "18        Super Smash Bros. for Wii U and 3DS     WiiU             2014   \n",
      "19                             The Last of Us      PS4             2014   \n",
      "\n",
      "           Genre                    Publisher  NA_Sales  EU_Sales  JP_Sales  \\\n",
      "0        Shooter                   Activision      6.03      5.86      0.36   \n",
      "1         Action         Take-Two Interactive      3.96      6.31      0.38   \n",
      "2   Role-Playing                     Nintendo      4.35      3.49      3.10   \n",
      "3         Sports              Electronic Arts      1.12      6.12      0.06   \n",
      "4        Shooter              Electronic Arts      2.99      3.49      0.22   \n",
      "5        Shooter                   Activision      2.81      3.48      0.14   \n",
      "6         Sports              Electronic Arts      0.66      5.75      0.08   \n",
      "7       Fighting                     Nintendo      3.27      1.37      2.43   \n",
      "8        Shooter                   Activision      4.59      2.11      0.01   \n",
      "9   Role-Playing           Bethesda Softworks      2.53      3.27      0.24   \n",
      "10  Role-Playing                     Nintendo      2.98      1.45      2.26   \n",
      "11        Racing                     Nintendo      3.15      2.15      1.28   \n",
      "12        Sports              Electronic Arts      0.80      4.33      0.05   \n",
      "13       Shooter                   Activision      2.49      2.07      0.16   \n",
      "14        Action         Take-Two Interactive      2.81      2.19      0.00   \n",
      "15       Shooter  Sony Computer Entertainment      1.85      2.50      0.19   \n",
      "16       Shooter                   Activision      3.22      1.55      0.01   \n",
      "17          Misc  Sony Computer Entertainment      2.03      2.37      0.00   \n",
      "18      Fighting                     Nintendo      2.60      1.08      0.81   \n",
      "19        Action  Sony Computer Entertainment      1.88      2.00      0.07   \n",
      "\n",
      "    Other_Sales  Global_Sales  Critic_Score  Critic_Count  User_Score  \\\n",
      "0          2.38         14.63     72.306407     30.637883    6.623536   \n",
      "1          1.97         12.61     97.000000     66.000000    8.300000   \n",
      "2          0.74         11.68     72.306407     30.637883    6.623536   \n",
      "3          1.28          8.57     82.000000     42.000000    4.300000   \n",
      "4          1.28          7.98     72.306407     30.637883    6.623536   \n",
      "5          1.23          7.66     83.000000     39.000000    5.700000   \n",
      "6          1.11          7.59     85.000000     41.000000    5.000000   \n",
      "7          0.48          7.55     72.306407     30.637883    6.623536   \n",
      "8          0.68          7.39     72.306407     30.637883    6.623536   \n",
      "9          1.13          7.16     87.000000     58.000000    6.500000   \n",
      "10         0.45          7.14     72.306407     30.637883    6.623536   \n",
      "11         0.51          7.09     88.000000     82.000000    9.100000   \n",
      "12         0.90          6.08     82.000000     47.000000    5.700000   \n",
      "13         0.92          5.64     76.000000     95.000000    6.100000   \n",
      "14         0.47          5.48     97.000000     14.000000    7.900000   \n",
      "15         0.85          5.38     93.000000    113.000000    7.900000   \n",
      "16         0.48          5.27     81.000000     53.000000    5.400000   \n",
      "17         0.87          5.26     72.306407     30.637883    6.623536   \n",
      "18         0.38          4.87     72.306407     30.637883    6.623536   \n",
      "19         0.77          4.71     72.306407     30.637883    6.623536   \n",
      "\n",
      "     User_Count                Developer Rating  \n",
      "0    342.925676           Rockstar North      M  \n",
      "1   2899.000000           Rockstar North      M  \n",
      "2    342.925676                EA Sports      E  \n",
      "3    896.000000                EA Sports      E  \n",
      "4    342.925676       Sledgehammer Games      M  \n",
      "5   1443.000000       Sledgehammer Games      M  \n",
      "6    398.000000  EA Sports, EA Vancouver      E  \n",
      "7    342.925676    Bethesda Game Studios      M  \n",
      "8    342.925676    Bethesda Game Studios      M  \n",
      "9   4228.000000    Bethesda Game Studios      M  \n",
      "10   342.925676                 Nintendo      E  \n",
      "11  1599.000000                 Nintendo      E  \n",
      "12   988.000000                EA Sports      E  \n",
      "13  5380.000000  Bungie Software, Bungie      T  \n",
      "14   764.000000           Rockstar North      M  \n",
      "15  7064.000000              Naughty Dog      T  \n",
      "16   898.000000       Sledgehammer Games      M  \n",
      "17   342.925676          Bluepoint Games      T  \n",
      "18   342.925676          Bluepoint Games      T  \n",
      "19   342.925676          Bluepoint Games      T  \n"
     ]
    }
   ],
   "source": [
    "print(ptr1.head(20))"
   ]
  },
  {
   "cell_type": "code",
   "execution_count": 63,
   "metadata": {},
   "outputs": [
    {
     "data": {
      "text/plain": [
       "0    5.86\n",
       "1    6.31\n",
       "2    3.49\n",
       "3    6.12\n",
       "4    3.49\n",
       "Name: EU_Sales, dtype: float64"
      ]
     },
     "execution_count": 63,
     "metadata": {},
     "output_type": "execute_result"
    }
   ],
   "source": [
    "ptr1[\"EU_Sales\"].head(5)"
   ]
  },
  {
   "cell_type": "code",
   "execution_count": 64,
   "metadata": {},
   "outputs": [
    {
     "data": {
      "text/html": [
       "<div>\n",
       "<style scoped>\n",
       "    .dataframe tbody tr th:only-of-type {\n",
       "        vertical-align: middle;\n",
       "    }\n",
       "\n",
       "    .dataframe tbody tr th {\n",
       "        vertical-align: top;\n",
       "    }\n",
       "\n",
       "    .dataframe thead th {\n",
       "        text-align: right;\n",
       "    }\n",
       "</style>\n",
       "<table border=\"1\" class=\"dataframe\">\n",
       "  <thead>\n",
       "    <tr style=\"text-align: right;\">\n",
       "      <th></th>\n",
       "      <th>Year_of_Release</th>\n",
       "      <th>NA_Sales</th>\n",
       "      <th>EU_Sales</th>\n",
       "      <th>JP_Sales</th>\n",
       "      <th>Other_Sales</th>\n",
       "      <th>Global_Sales</th>\n",
       "      <th>Critic_Score</th>\n",
       "      <th>Critic_Count</th>\n",
       "      <th>User_Score</th>\n",
       "      <th>User_Count</th>\n",
       "    </tr>\n",
       "  </thead>\n",
       "  <tbody>\n",
       "    <tr>\n",
       "      <td>count</td>\n",
       "      <td>1689.000000</td>\n",
       "      <td>1689.000000</td>\n",
       "      <td>1689.000000</td>\n",
       "      <td>1689.000000</td>\n",
       "      <td>1689.000000</td>\n",
       "      <td>1689.000000</td>\n",
       "      <td>1689.000000</td>\n",
       "      <td>1689.000000</td>\n",
       "      <td>1689.000000</td>\n",
       "      <td>1689.000000</td>\n",
       "    </tr>\n",
       "    <tr>\n",
       "      <td>mean</td>\n",
       "      <td>2014.953227</td>\n",
       "      <td>0.168182</td>\n",
       "      <td>0.160261</td>\n",
       "      <td>0.055115</td>\n",
       "      <td>0.048324</td>\n",
       "      <td>0.432007</td>\n",
       "      <td>72.306407</td>\n",
       "      <td>30.637883</td>\n",
       "      <td>6.623536</td>\n",
       "      <td>342.925676</td>\n",
       "    </tr>\n",
       "    <tr>\n",
       "      <td>std</td>\n",
       "      <td>0.799624</td>\n",
       "      <td>0.446134</td>\n",
       "      <td>0.466846</td>\n",
       "      <td>0.211513</td>\n",
       "      <td>0.141790</td>\n",
       "      <td>1.055845</td>\n",
       "      <td>7.960008</td>\n",
       "      <td>15.373314</td>\n",
       "      <td>1.152434</td>\n",
       "      <td>629.660906</td>\n",
       "    </tr>\n",
       "    <tr>\n",
       "      <td>min</td>\n",
       "      <td>2014.000000</td>\n",
       "      <td>0.000000</td>\n",
       "      <td>0.000000</td>\n",
       "      <td>0.000000</td>\n",
       "      <td>0.000000</td>\n",
       "      <td>0.010000</td>\n",
       "      <td>19.000000</td>\n",
       "      <td>4.000000</td>\n",
       "      <td>0.200000</td>\n",
       "      <td>4.000000</td>\n",
       "    </tr>\n",
       "    <tr>\n",
       "      <td>25%</td>\n",
       "      <td>2014.000000</td>\n",
       "      <td>0.000000</td>\n",
       "      <td>0.000000</td>\n",
       "      <td>0.000000</td>\n",
       "      <td>0.000000</td>\n",
       "      <td>0.030000</td>\n",
       "      <td>72.306407</td>\n",
       "      <td>30.000000</td>\n",
       "      <td>6.623536</td>\n",
       "      <td>65.000000</td>\n",
       "    </tr>\n",
       "    <tr>\n",
       "      <td>50%</td>\n",
       "      <td>2015.000000</td>\n",
       "      <td>0.020000</td>\n",
       "      <td>0.020000</td>\n",
       "      <td>0.010000</td>\n",
       "      <td>0.010000</td>\n",
       "      <td>0.100000</td>\n",
       "      <td>72.306407</td>\n",
       "      <td>30.637883</td>\n",
       "      <td>6.623536</td>\n",
       "      <td>342.925676</td>\n",
       "    </tr>\n",
       "    <tr>\n",
       "      <td>75%</td>\n",
       "      <td>2016.000000</td>\n",
       "      <td>0.120000</td>\n",
       "      <td>0.120000</td>\n",
       "      <td>0.040000</td>\n",
       "      <td>0.040000</td>\n",
       "      <td>0.350000</td>\n",
       "      <td>72.306407</td>\n",
       "      <td>30.637883</td>\n",
       "      <td>7.100000</td>\n",
       "      <td>342.925676</td>\n",
       "    </tr>\n",
       "    <tr>\n",
       "      <td>max</td>\n",
       "      <td>2016.000000</td>\n",
       "      <td>6.030000</td>\n",
       "      <td>6.310000</td>\n",
       "      <td>3.180000</td>\n",
       "      <td>2.380000</td>\n",
       "      <td>14.630000</td>\n",
       "      <td>97.000000</td>\n",
       "      <td>113.000000</td>\n",
       "      <td>9.300000</td>\n",
       "      <td>10665.000000</td>\n",
       "    </tr>\n",
       "  </tbody>\n",
       "</table>\n",
       "</div>"
      ],
      "text/plain": [
       "       Year_of_Release     NA_Sales     EU_Sales     JP_Sales  Other_Sales  \\\n",
       "count      1689.000000  1689.000000  1689.000000  1689.000000  1689.000000   \n",
       "mean       2014.953227     0.168182     0.160261     0.055115     0.048324   \n",
       "std           0.799624     0.446134     0.466846     0.211513     0.141790   \n",
       "min        2014.000000     0.000000     0.000000     0.000000     0.000000   \n",
       "25%        2014.000000     0.000000     0.000000     0.000000     0.000000   \n",
       "50%        2015.000000     0.020000     0.020000     0.010000     0.010000   \n",
       "75%        2016.000000     0.120000     0.120000     0.040000     0.040000   \n",
       "max        2016.000000     6.030000     6.310000     3.180000     2.380000   \n",
       "\n",
       "       Global_Sales  Critic_Score  Critic_Count   User_Score    User_Count  \n",
       "count   1689.000000   1689.000000   1689.000000  1689.000000   1689.000000  \n",
       "mean       0.432007     72.306407     30.637883     6.623536    342.925676  \n",
       "std        1.055845      7.960008     15.373314     1.152434    629.660906  \n",
       "min        0.010000     19.000000      4.000000     0.200000      4.000000  \n",
       "25%        0.030000     72.306407     30.000000     6.623536     65.000000  \n",
       "50%        0.100000     72.306407     30.637883     6.623536    342.925676  \n",
       "75%        0.350000     72.306407     30.637883     7.100000    342.925676  \n",
       "max       14.630000     97.000000    113.000000     9.300000  10665.000000  "
      ]
     },
     "execution_count": 64,
     "metadata": {},
     "output_type": "execute_result"
    }
   ],
   "source": [
    "ptr1.describe()"
   ]
  },
  {
   "cell_type": "code",
   "execution_count": 23,
   "metadata": {},
   "outputs": [],
   "source": [
    "std_dev=ptr1[\"EU_Sales\"].std()"
   ]
  },
  {
   "cell_type": "code",
   "execution_count": 65,
   "metadata": {},
   "outputs": [],
   "source": [
    "pop_mean=ptr1[\"EU_Sales\"].mean()"
   ]
  },
  {
   "cell_type": "code",
   "execution_count": 66,
   "metadata": {},
   "outputs": [],
   "source": [
    "sample=ids.loc[ids['Year_of_Release'].isin(['2016'])]"
   ]
  },
  {
   "cell_type": "code",
   "execution_count": 67,
   "metadata": {},
   "outputs": [
    {
     "data": {
      "text/html": [
       "<div>\n",
       "<style scoped>\n",
       "    .dataframe tbody tr th:only-of-type {\n",
       "        vertical-align: middle;\n",
       "    }\n",
       "\n",
       "    .dataframe tbody tr th {\n",
       "        vertical-align: top;\n",
       "    }\n",
       "\n",
       "    .dataframe thead th {\n",
       "        text-align: right;\n",
       "    }\n",
       "</style>\n",
       "<table border=\"1\" class=\"dataframe\">\n",
       "  <thead>\n",
       "    <tr style=\"text-align: right;\">\n",
       "      <th></th>\n",
       "      <th>Year_of_Release</th>\n",
       "      <th>NA_Sales</th>\n",
       "      <th>EU_Sales</th>\n",
       "      <th>JP_Sales</th>\n",
       "      <th>Other_Sales</th>\n",
       "      <th>Global_Sales</th>\n",
       "      <th>Critic_Score</th>\n",
       "      <th>Critic_Count</th>\n",
       "      <th>User_Score</th>\n",
       "      <th>User_Count</th>\n",
       "    </tr>\n",
       "  </thead>\n",
       "  <tbody>\n",
       "    <tr>\n",
       "      <td>count</td>\n",
       "      <td>502.0</td>\n",
       "      <td>502.000000</td>\n",
       "      <td>502.000000</td>\n",
       "      <td>502.000000</td>\n",
       "      <td>502.000000</td>\n",
       "      <td>502.000000</td>\n",
       "      <td>502.000000</td>\n",
       "      <td>502.000000</td>\n",
       "      <td>502.000000</td>\n",
       "      <td>502.000000</td>\n",
       "    </tr>\n",
       "    <tr>\n",
       "      <td>mean</td>\n",
       "      <td>2016.0</td>\n",
       "      <td>0.089502</td>\n",
       "      <td>0.102032</td>\n",
       "      <td>0.038466</td>\n",
       "      <td>0.028845</td>\n",
       "      <td>0.259163</td>\n",
       "      <td>72.698665</td>\n",
       "      <td>30.460614</td>\n",
       "      <td>6.626790</td>\n",
       "      <td>302.239367</td>\n",
       "    </tr>\n",
       "    <tr>\n",
       "      <td>std</td>\n",
       "      <td>0.0</td>\n",
       "      <td>0.258167</td>\n",
       "      <td>0.359903</td>\n",
       "      <td>0.133465</td>\n",
       "      <td>0.093631</td>\n",
       "      <td>0.697504</td>\n",
       "      <td>7.985304</td>\n",
       "      <td>16.226217</td>\n",
       "      <td>1.213343</td>\n",
       "      <td>486.045737</td>\n",
       "    </tr>\n",
       "    <tr>\n",
       "      <td>min</td>\n",
       "      <td>2016.0</td>\n",
       "      <td>0.000000</td>\n",
       "      <td>0.000000</td>\n",
       "      <td>0.000000</td>\n",
       "      <td>0.000000</td>\n",
       "      <td>0.010000</td>\n",
       "      <td>31.000000</td>\n",
       "      <td>4.000000</td>\n",
       "      <td>0.200000</td>\n",
       "      <td>5.000000</td>\n",
       "    </tr>\n",
       "    <tr>\n",
       "      <td>25%</td>\n",
       "      <td>2016.0</td>\n",
       "      <td>0.000000</td>\n",
       "      <td>0.000000</td>\n",
       "      <td>0.000000</td>\n",
       "      <td>0.000000</td>\n",
       "      <td>0.020000</td>\n",
       "      <td>72.306407</td>\n",
       "      <td>26.250000</td>\n",
       "      <td>6.623536</td>\n",
       "      <td>52.000000</td>\n",
       "    </tr>\n",
       "    <tr>\n",
       "      <td>50%</td>\n",
       "      <td>2016.0</td>\n",
       "      <td>0.010000</td>\n",
       "      <td>0.010000</td>\n",
       "      <td>0.000000</td>\n",
       "      <td>0.000000</td>\n",
       "      <td>0.060000</td>\n",
       "      <td>72.306407</td>\n",
       "      <td>30.637883</td>\n",
       "      <td>6.623536</td>\n",
       "      <td>342.925676</td>\n",
       "    </tr>\n",
       "    <tr>\n",
       "      <td>75%</td>\n",
       "      <td>2016.0</td>\n",
       "      <td>0.050000</td>\n",
       "      <td>0.070000</td>\n",
       "      <td>0.030000</td>\n",
       "      <td>0.020000</td>\n",
       "      <td>0.190000</td>\n",
       "      <td>73.000000</td>\n",
       "      <td>30.637883</td>\n",
       "      <td>7.100000</td>\n",
       "      <td>342.925676</td>\n",
       "    </tr>\n",
       "    <tr>\n",
       "      <td>max</td>\n",
       "      <td>2016.0</td>\n",
       "      <td>2.980000</td>\n",
       "      <td>5.750000</td>\n",
       "      <td>2.260000</td>\n",
       "      <td>1.110000</td>\n",
       "      <td>7.590000</td>\n",
       "      <td>93.000000</td>\n",
       "      <td>113.000000</td>\n",
       "      <td>8.800000</td>\n",
       "      <td>7064.000000</td>\n",
       "    </tr>\n",
       "  </tbody>\n",
       "</table>\n",
       "</div>"
      ],
      "text/plain": [
       "       Year_of_Release    NA_Sales    EU_Sales    JP_Sales  Other_Sales  \\\n",
       "count            502.0  502.000000  502.000000  502.000000   502.000000   \n",
       "mean            2016.0    0.089502    0.102032    0.038466     0.028845   \n",
       "std                0.0    0.258167    0.359903    0.133465     0.093631   \n",
       "min             2016.0    0.000000    0.000000    0.000000     0.000000   \n",
       "25%             2016.0    0.000000    0.000000    0.000000     0.000000   \n",
       "50%             2016.0    0.010000    0.010000    0.000000     0.000000   \n",
       "75%             2016.0    0.050000    0.070000    0.030000     0.020000   \n",
       "max             2016.0    2.980000    5.750000    2.260000     1.110000   \n",
       "\n",
       "       Global_Sales  Critic_Score  Critic_Count  User_Score   User_Count  \n",
       "count    502.000000    502.000000    502.000000  502.000000   502.000000  \n",
       "mean       0.259163     72.698665     30.460614    6.626790   302.239367  \n",
       "std        0.697504      7.985304     16.226217    1.213343   486.045737  \n",
       "min        0.010000     31.000000      4.000000    0.200000     5.000000  \n",
       "25%        0.020000     72.306407     26.250000    6.623536    52.000000  \n",
       "50%        0.060000     72.306407     30.637883    6.623536   342.925676  \n",
       "75%        0.190000     73.000000     30.637883    7.100000   342.925676  \n",
       "max        7.590000     93.000000    113.000000    8.800000  7064.000000  "
      ]
     },
     "execution_count": 67,
     "metadata": {},
     "output_type": "execute_result"
    }
   ],
   "source": [
    "sample.describe()"
   ]
  },
  {
   "cell_type": "code",
   "execution_count": 22,
   "metadata": {},
   "outputs": [
    {
     "data": {
      "text/html": [
       "<div>\n",
       "<style scoped>\n",
       "    .dataframe tbody tr th:only-of-type {\n",
       "        vertical-align: middle;\n",
       "    }\n",
       "\n",
       "    .dataframe tbody tr th {\n",
       "        vertical-align: top;\n",
       "    }\n",
       "\n",
       "    .dataframe thead th {\n",
       "        text-align: right;\n",
       "    }\n",
       "</style>\n",
       "<table border=\"1\" class=\"dataframe\">\n",
       "  <thead>\n",
       "    <tr style=\"text-align: right;\">\n",
       "      <th></th>\n",
       "      <th>Name</th>\n",
       "      <th>Platform</th>\n",
       "      <th>Year_of_Release</th>\n",
       "      <th>Genre</th>\n",
       "      <th>Publisher</th>\n",
       "      <th>NA_Sales</th>\n",
       "      <th>EU_Sales</th>\n",
       "      <th>JP_Sales</th>\n",
       "      <th>Other_Sales</th>\n",
       "      <th>Global_Sales</th>\n",
       "      <th>Critic_Score</th>\n",
       "      <th>Critic_Count</th>\n",
       "      <th>User_Score</th>\n",
       "      <th>User_Count</th>\n",
       "      <th>Developer</th>\n",
       "      <th>Rating</th>\n",
       "    </tr>\n",
       "  </thead>\n",
       "  <tbody>\n",
       "    <tr>\n",
       "      <td>6</td>\n",
       "      <td>FIFA 17</td>\n",
       "      <td>PS4</td>\n",
       "      <td>2016</td>\n",
       "      <td>Sports</td>\n",
       "      <td>Electronic Arts</td>\n",
       "      <td>0.66</td>\n",
       "      <td>5.75</td>\n",
       "      <td>0.08</td>\n",
       "      <td>1.11</td>\n",
       "      <td>7.59</td>\n",
       "      <td>85.000000</td>\n",
       "      <td>41.000000</td>\n",
       "      <td>5.000000</td>\n",
       "      <td>398.000000</td>\n",
       "      <td>EA Sports, EA Vancouver</td>\n",
       "      <td>E</td>\n",
       "    </tr>\n",
       "    <tr>\n",
       "      <td>10</td>\n",
       "      <td>Pokemon Sun/Moon</td>\n",
       "      <td>3DS</td>\n",
       "      <td>2016</td>\n",
       "      <td>Role-Playing</td>\n",
       "      <td>Nintendo</td>\n",
       "      <td>2.98</td>\n",
       "      <td>1.45</td>\n",
       "      <td>2.26</td>\n",
       "      <td>0.45</td>\n",
       "      <td>7.14</td>\n",
       "      <td>72.306407</td>\n",
       "      <td>30.637883</td>\n",
       "      <td>6.623536</td>\n",
       "      <td>342.925676</td>\n",
       "      <td>Nintendo</td>\n",
       "      <td>E</td>\n",
       "    </tr>\n",
       "    <tr>\n",
       "      <td>15</td>\n",
       "      <td>Uncharted 4: A Thief's End</td>\n",
       "      <td>PS4</td>\n",
       "      <td>2016</td>\n",
       "      <td>Shooter</td>\n",
       "      <td>Sony Computer Entertainment</td>\n",
       "      <td>1.85</td>\n",
       "      <td>2.50</td>\n",
       "      <td>0.19</td>\n",
       "      <td>0.85</td>\n",
       "      <td>5.38</td>\n",
       "      <td>93.000000</td>\n",
       "      <td>113.000000</td>\n",
       "      <td>7.900000</td>\n",
       "      <td>7064.000000</td>\n",
       "      <td>Naughty Dog</td>\n",
       "      <td>T</td>\n",
       "    </tr>\n",
       "    <tr>\n",
       "      <td>22</td>\n",
       "      <td>Call of Duty: Infinite Warfare</td>\n",
       "      <td>PS4</td>\n",
       "      <td>2016</td>\n",
       "      <td>Shooter</td>\n",
       "      <td>Activision</td>\n",
       "      <td>1.61</td>\n",
       "      <td>2.00</td>\n",
       "      <td>0.15</td>\n",
       "      <td>0.71</td>\n",
       "      <td>4.46</td>\n",
       "      <td>77.000000</td>\n",
       "      <td>82.000000</td>\n",
       "      <td>3.400000</td>\n",
       "      <td>1129.000000</td>\n",
       "      <td>Infinity Ward</td>\n",
       "      <td>M</td>\n",
       "    </tr>\n",
       "    <tr>\n",
       "      <td>29</td>\n",
       "      <td>Battlefield 1</td>\n",
       "      <td>PS4</td>\n",
       "      <td>2016</td>\n",
       "      <td>Shooter</td>\n",
       "      <td>Electronic Arts</td>\n",
       "      <td>1.10</td>\n",
       "      <td>2.15</td>\n",
       "      <td>0.21</td>\n",
       "      <td>0.61</td>\n",
       "      <td>4.08</td>\n",
       "      <td>88.000000</td>\n",
       "      <td>31.000000</td>\n",
       "      <td>8.400000</td>\n",
       "      <td>809.000000</td>\n",
       "      <td>EA DICE</td>\n",
       "      <td>M</td>\n",
       "    </tr>\n",
       "    <tr>\n",
       "      <td>37</td>\n",
       "      <td>Tom Clancy's The Division</td>\n",
       "      <td>PS4</td>\n",
       "      <td>2016</td>\n",
       "      <td>Shooter</td>\n",
       "      <td>Ubisoft</td>\n",
       "      <td>1.35</td>\n",
       "      <td>1.70</td>\n",
       "      <td>0.15</td>\n",
       "      <td>0.60</td>\n",
       "      <td>3.80</td>\n",
       "      <td>80.000000</td>\n",
       "      <td>64.000000</td>\n",
       "      <td>7.000000</td>\n",
       "      <td>2219.000000</td>\n",
       "      <td>Massive Entertainment</td>\n",
       "      <td>M</td>\n",
       "    </tr>\n",
       "    <tr>\n",
       "      <td>60</td>\n",
       "      <td>FIFA 17</td>\n",
       "      <td>XOne</td>\n",
       "      <td>2016</td>\n",
       "      <td>Sports</td>\n",
       "      <td>Electronic Arts</td>\n",
       "      <td>0.43</td>\n",
       "      <td>2.05</td>\n",
       "      <td>0.00</td>\n",
       "      <td>0.17</td>\n",
       "      <td>2.65</td>\n",
       "      <td>84.000000</td>\n",
       "      <td>50.000000</td>\n",
       "      <td>5.500000</td>\n",
       "      <td>201.000000</td>\n",
       "      <td>EA Sports, EA Vancouver</td>\n",
       "      <td>E</td>\n",
       "    </tr>\n",
       "    <tr>\n",
       "      <td>64</td>\n",
       "      <td>Call of Duty: Infinite Warfare</td>\n",
       "      <td>XOne</td>\n",
       "      <td>2016</td>\n",
       "      <td>Shooter</td>\n",
       "      <td>Activision</td>\n",
       "      <td>1.46</td>\n",
       "      <td>0.74</td>\n",
       "      <td>0.00</td>\n",
       "      <td>0.22</td>\n",
       "      <td>2.42</td>\n",
       "      <td>78.000000</td>\n",
       "      <td>17.000000</td>\n",
       "      <td>3.100000</td>\n",
       "      <td>290.000000</td>\n",
       "      <td>Infinity Ward</td>\n",
       "      <td>M</td>\n",
       "    </tr>\n",
       "    <tr>\n",
       "      <td>69</td>\n",
       "      <td>Far Cry: Primal</td>\n",
       "      <td>PS4</td>\n",
       "      <td>2016</td>\n",
       "      <td>Action</td>\n",
       "      <td>Ubisoft</td>\n",
       "      <td>0.60</td>\n",
       "      <td>1.25</td>\n",
       "      <td>0.06</td>\n",
       "      <td>0.35</td>\n",
       "      <td>2.26</td>\n",
       "      <td>76.000000</td>\n",
       "      <td>91.000000</td>\n",
       "      <td>6.300000</td>\n",
       "      <td>635.000000</td>\n",
       "      <td>Ubisoft Montreal</td>\n",
       "      <td>M</td>\n",
       "    </tr>\n",
       "    <tr>\n",
       "      <td>70</td>\n",
       "      <td>Battlefield 1</td>\n",
       "      <td>XOne</td>\n",
       "      <td>2016</td>\n",
       "      <td>Shooter</td>\n",
       "      <td>Electronic Arts</td>\n",
       "      <td>1.28</td>\n",
       "      <td>0.77</td>\n",
       "      <td>0.00</td>\n",
       "      <td>0.20</td>\n",
       "      <td>2.25</td>\n",
       "      <td>87.000000</td>\n",
       "      <td>37.000000</td>\n",
       "      <td>8.200000</td>\n",
       "      <td>440.000000</td>\n",
       "      <td>EA DICE</td>\n",
       "      <td>M</td>\n",
       "    </tr>\n",
       "  </tbody>\n",
       "</table>\n",
       "</div>"
      ],
      "text/plain": [
       "                              Name Platform  Year_of_Release         Genre  \\\n",
       "6                          FIFA 17      PS4             2016        Sports   \n",
       "10                Pokemon Sun/Moon      3DS             2016  Role-Playing   \n",
       "15      Uncharted 4: A Thief's End      PS4             2016       Shooter   \n",
       "22  Call of Duty: Infinite Warfare      PS4             2016       Shooter   \n",
       "29                   Battlefield 1      PS4             2016       Shooter   \n",
       "37       Tom Clancy's The Division      PS4             2016       Shooter   \n",
       "60                         FIFA 17     XOne             2016        Sports   \n",
       "64  Call of Duty: Infinite Warfare     XOne             2016       Shooter   \n",
       "69                 Far Cry: Primal      PS4             2016        Action   \n",
       "70                   Battlefield 1     XOne             2016       Shooter   \n",
       "\n",
       "                      Publisher  NA_Sales  EU_Sales  JP_Sales  Other_Sales  \\\n",
       "6               Electronic Arts      0.66      5.75      0.08         1.11   \n",
       "10                     Nintendo      2.98      1.45      2.26         0.45   \n",
       "15  Sony Computer Entertainment      1.85      2.50      0.19         0.85   \n",
       "22                   Activision      1.61      2.00      0.15         0.71   \n",
       "29              Electronic Arts      1.10      2.15      0.21         0.61   \n",
       "37                      Ubisoft      1.35      1.70      0.15         0.60   \n",
       "60              Electronic Arts      0.43      2.05      0.00         0.17   \n",
       "64                   Activision      1.46      0.74      0.00         0.22   \n",
       "69                      Ubisoft      0.60      1.25      0.06         0.35   \n",
       "70              Electronic Arts      1.28      0.77      0.00         0.20   \n",
       "\n",
       "    Global_Sales  Critic_Score  Critic_Count  User_Score   User_Count  \\\n",
       "6           7.59     85.000000     41.000000    5.000000   398.000000   \n",
       "10          7.14     72.306407     30.637883    6.623536   342.925676   \n",
       "15          5.38     93.000000    113.000000    7.900000  7064.000000   \n",
       "22          4.46     77.000000     82.000000    3.400000  1129.000000   \n",
       "29          4.08     88.000000     31.000000    8.400000   809.000000   \n",
       "37          3.80     80.000000     64.000000    7.000000  2219.000000   \n",
       "60          2.65     84.000000     50.000000    5.500000   201.000000   \n",
       "64          2.42     78.000000     17.000000    3.100000   290.000000   \n",
       "69          2.26     76.000000     91.000000    6.300000   635.000000   \n",
       "70          2.25     87.000000     37.000000    8.200000   440.000000   \n",
       "\n",
       "                  Developer Rating  \n",
       "6   EA Sports, EA Vancouver      E  \n",
       "10                 Nintendo      E  \n",
       "15              Naughty Dog      T  \n",
       "22            Infinity Ward      M  \n",
       "29                  EA DICE      M  \n",
       "37    Massive Entertainment      M  \n",
       "60  EA Sports, EA Vancouver      E  \n",
       "64            Infinity Ward      M  \n",
       "69         Ubisoft Montreal      M  \n",
       "70                  EA DICE      M  "
      ]
     },
     "execution_count": 22,
     "metadata": {},
     "output_type": "execute_result"
    }
   ],
   "source": [
    "sample.head(10)"
   ]
  },
  {
   "cell_type": "code",
   "execution_count": 23,
   "metadata": {},
   "outputs": [
    {
     "data": {
      "text/plain": [
       "Year_of_Release    2016.000000\n",
       "NA_Sales              0.089502\n",
       "EU_Sales              0.102032\n",
       "JP_Sales              0.038466\n",
       "Other_Sales           0.028845\n",
       "Global_Sales          0.259163\n",
       "Critic_Score         72.698665\n",
       "Critic_Count         30.460614\n",
       "User_Score            6.626790\n",
       "User_Count          302.239367\n",
       "dtype: float64"
      ]
     },
     "execution_count": 23,
     "metadata": {},
     "output_type": "execute_result"
    }
   ],
   "source": [
    "sample.mean()"
   ]
  },
  {
   "cell_type": "code",
   "execution_count": 24,
   "metadata": {},
   "outputs": [],
   "source": [
    "sample_size=502"
   ]
  },
  {
   "cell_type": "code",
   "execution_count": 25,
   "metadata": {},
   "outputs": [
    {
     "name": "stdout",
     "output_type": "stream",
     "text": [
      "H0 : μ <= 0.160261\n",
      "H1 : μ > 0.160261\n",
      "alpha value is : 0.05 \n",
      "\n",
      "actual z value : 1.6448536269514729\n",
      "hypothesis z value : -2.7945864455917366 \n",
      "\n",
      "Failed to reject NULL hypothesis\n"
     ]
    }
   ],
   "source": [
    "#hypothesis testing for data based on EU_Sales where H0: mean of entire data and H1: mean of data of 2016\n",
    "from scipy.stats import norm\n",
    "from math import sqrt\n",
    "#one sided hypothesis test(for smaller than in NULL hypothesis)\n",
    "def one_sided_hypo(sample_mean, pop_mean, std_dev, sample_size, alpha):\n",
    "    actual_z = abs(norm.ppf(alpha))\n",
    "    hypo_z = (sample_mean - pop_mean) / (std_dev/sqrt(sample_size))\n",
    "    print('actual z value :', actual_z)\n",
    "    print('hypothesis z value :', hypo_z, '\\n')\n",
    "    if hypo_z >= actual_z:\n",
    "        return True\n",
    "    else:\n",
    "        return False\n",
    "    \n",
    "alpha = 0.05\n",
    "sample_mean = 0.102032\n",
    "pop_mean = 0.160261\n",
    "sample_size = 502\n",
    "std_dev = 0.466846\n",
    "\n",
    "print('H0 : μ <=', pop_mean)\n",
    "print('H1 : μ >', pop_mean)\n",
    "print('alpha value is :', alpha, '\\n')\n",
    "\n",
    "reject = one_sided_hypo(sample_mean, pop_mean, std_dev, sample_size, alpha)\n",
    "if reject:\n",
    "    print('Reject NULL hypothesis')\n",
    "else:\n",
    "    print('Failed to reject NULL hypothesis')\n",
    "#variation with different parameters can be shown here"
   ]
  },
  {
   "cell_type": "code",
   "execution_count": 26,
   "metadata": {},
   "outputs": [
    {
     "name": "stdout",
     "output_type": "stream",
     "text": [
      "H0 : μ = 0.160261\n",
      "H1 : μ != 0.160261\n",
      "alpha value is : 0.05 \n",
      "\n",
      "actual z value : 1.9599639845400545\n",
      "hypothesis z value : -2.7945864455917366 \n",
      "\n",
      "Reject NULL hypothesis\n"
     ]
    }
   ],
   "source": [
    "def two_sided_hypo(sample_mean, pop_mean, std_dev, sample_size, alpha):\n",
    "    actual_z = abs(norm.ppf(alpha/2))\n",
    "    hypo_z = (sample_mean - pop_mean) / (std_dev/sqrt(sample_size))\n",
    "    print('actual z value :', actual_z)\n",
    "    print('hypothesis z value :', hypo_z, '\\n')\n",
    "    if hypo_z >= actual_z or hypo_z <= -(actual_z):\n",
    "        return True\n",
    "    else:\n",
    "        return False\n",
    "    \n",
    "alpha = 0.05\n",
    "sample_mean = 0.102032\n",
    "pop_mean = 0.160261\n",
    "sample_size = 502\n",
    "std_dev = 0.466846\n",
    "\n",
    "print('H0 : μ =', pop_mean)\n",
    "print('H1 : μ !=', pop_mean)\n",
    "print('alpha value is :', alpha, '\\n')\n",
    "\n",
    "reject = two_sided_hypo(sample_mean, pop_mean, std_dev, sample_size, alpha)\n",
    "if reject:\n",
    "    print('Reject NULL hypothesis')\n",
    "else:\n",
    "    print('Failed to reject NULL hypothesis')\n",
    "#variation with different parameters can be shown here"
   ]
  },
  {
   "cell_type": "code",
   "execution_count": 37,
   "metadata": {},
   "outputs": [
    {
     "name": "stdout",
     "output_type": "stream",
     "text": [
      " Positive correlation 0.9155138643946464\n"
     ]
    }
   ],
   "source": [
    "if(ids['Global_Sales'].corr(ids['EU_Sales'])>0):\n",
    "    r=str(ids['Global_Sales'].corr(ids['EU_Sales']))\n",
    "    print(\" Positive correlation \"+r)"
   ]
  },
  {
   "cell_type": "code",
   "execution_count": 19,
   "metadata": {},
   "outputs": [
    {
     "name": "stdout",
     "output_type": "stream",
     "text": [
      " Negative correlation -0.010041656707671502\n"
     ]
    }
   ],
   "source": [
    "if(ids['Global_Sales'].corr(ids['User_Score'])<0):\n",
    "    r=str(ids['Global_Sales'].corr(ids['User_Score']))\n",
    "    print(\" Negative correlation \"+r)\n"
   ]
  },
  {
   "cell_type": "code",
   "execution_count": 68,
   "metadata": {},
   "outputs": [
    {
     "data": {
      "image/png": "[encoded data removed]",
      "text/plain": [
       "<Figure size 432x288 with 1 Axes>"
      ]
     },
     "metadata": {
      "needs_background": "light"
     },
     "output_type": "display_data"
    }
   ],
   "source": [
    "import matplotlib.pyplot as plt\n",
    "cs = ids['Global_Sales']\n",
    "us = ids['EU_Sales']\n",
    "plt.scatter(cs,us,edgecolors='b')\n",
    "plt.xlabel('Global_Sales')\n",
    "plt.ylabel('EU_Sales')\n",
    "plt.title('Global_Sales v/s EU_Sales')\n",
    "plt.show()"
   ]
  },
  {
   "cell_type": "code",
   "execution_count": 27,
   "metadata": {},
   "outputs": [
    {
     "data": {
      "image/png": "[encoded data removed]",
      "text/plain": [
       "<Figure size 432x288 with 1 Axes>"
      ]
     },
     "metadata": {
      "needs_background": "light"
     },
     "output_type": "display_data"
    }
   ],
   "source": [
    "yr = ids['Global_Sales']\n",
    "uc = ids['User_Score']\n",
    "plt.scatter(yr,uc,edgecolors='b')\n",
    "plt.xlabel('Global_Sales')\n",
    "plt.ylabel('User_Score')\n",
    "plt.title('Global_Sales v/s User_Score')\n",
    "plt.show()"
   ]
  },
  {
   "cell_type": "code",
   "execution_count": 82,
   "metadata": {},
   "outputs": [
    {
     "data": {
      "image/png": "[encoded data removed]",
      "text/plain": [
       "<Figure size 432x288 with 1 Axes>"
      ]
     },
     "metadata": {
      "needs_background": "light"
     },
     "output_type": "display_data"
    }
   ],
   "source": [
    "ids.groupby('JP_Sales').sum().unstack().Global_Sales.sort_values(ascending=False).head(10).plot(kind='bar');"
   ]
  },
  {
   "cell_type": "code",
   "execution_count": 83,
   "metadata": {},
   "outputs": [
    {
     "data": {
      "image/png": "[encoded data removed]",
      "text/plain": [
       "<Figure size 432x288 with 1 Axes>"
      ]
     },
     "metadata": {
      "needs_background": "light"
     },
     "output_type": "display_data"
    }
   ],
   "source": [
    "ids.groupby('EU_Sales').sum().unstack().Global_Sales.sort_values(ascending=False).head(10).plot(kind='bar');"
   ]
  },
  {
   "cell_type": "code",
   "execution_count": 88,
   "metadata": {},
   "outputs": [
    {
     "data": {
      "image/png": "[encoded data removed]",
      "text/plain": [
       "<Figure size 432x288 with 1 Axes>"
      ]
     },
     "metadata": {},
     "output_type": "display_data"
    }
   ],
   "source": [
    "ids.groupby('Global_Sales').sum().unstack().EU_Sales.sort_values(ascending=False).head(10).plot(kind='hist');"
   ]
  },
  {
   "cell_type": "code",
   "execution_count": 94,
   "metadata": {},
   "outputs": [
    {
     "data": {
      "text/html": [
       "<div>\n",
       "<style scoped>\n",
       "    .dataframe tbody tr th:only-of-type {\n",
       "        vertical-align: middle;\n",
       "    }\n",
       "\n",
       "    .dataframe tbody tr th {\n",
       "        vertical-align: top;\n",
       "    }\n",
       "\n",
       "    .dataframe thead th {\n",
       "        text-align: right;\n",
       "    }\n",
       "</style>\n",
       "<table border=\"1\" class=\"dataframe\">\n",
       "  <thead>\n",
       "    <tr style=\"text-align: right;\">\n",
       "      <th></th>\n",
       "      <th>Publisher</th>\n",
       "    </tr>\n",
       "  </thead>\n",
       "  <tbody>\n",
       "    <tr>\n",
       "      <td>Namco Bandai Games</td>\n",
       "      <td>184</td>\n",
       "    </tr>\n",
       "    <tr>\n",
       "      <td>Activision</td>\n",
       "      <td>105</td>\n",
       "    </tr>\n",
       "    <tr>\n",
       "      <td>Ubisoft</td>\n",
       "      <td>103</td>\n",
       "    </tr>\n",
       "    <tr>\n",
       "      <td>Electronic Arts</td>\n",
       "      <td>94</td>\n",
       "    </tr>\n",
       "    <tr>\n",
       "      <td>Tecmo Koei</td>\n",
       "      <td>89</td>\n",
       "    </tr>\n",
       "    <tr>\n",
       "      <td>...</td>\n",
       "      <td>...</td>\n",
       "    </tr>\n",
       "    <tr>\n",
       "      <td>Marvel Entertainment</td>\n",
       "      <td>1</td>\n",
       "    </tr>\n",
       "    <tr>\n",
       "      <td>ArtDink</td>\n",
       "      <td>1</td>\n",
       "    </tr>\n",
       "    <tr>\n",
       "      <td>mixi, Inc</td>\n",
       "      <td>1</td>\n",
       "    </tr>\n",
       "    <tr>\n",
       "      <td>Inti Creates</td>\n",
       "      <td>1</td>\n",
       "    </tr>\n",
       "    <tr>\n",
       "      <td>Rondomedia</td>\n",
       "      <td>1</td>\n",
       "    </tr>\n",
       "  </tbody>\n",
       "</table>\n",
       "<p>131 rows × 1 columns</p>\n",
       "</div>"
      ],
      "text/plain": [
       "                      Publisher\n",
       "Namco Bandai Games          184\n",
       "Activision                  105\n",
       "Ubisoft                     103\n",
       "Electronic Arts              94\n",
       "Tecmo Koei                   89\n",
       "...                         ...\n",
       "Marvel Entertainment          1\n",
       "ArtDink                       1\n",
       "mixi, Inc                     1\n",
       "Inti Creates                  1\n",
       "Rondomedia                    1\n",
       "\n",
       "[131 rows x 1 columns]"
      ]
     },
     "execution_count": 94,
     "metadata": {},
     "output_type": "execute_result"
    }
   ],
   "source": [
    "j=pd.DataFrame(ids['Publisher'].value_counts())\n",
    "j"
   ]
  },
  {
   "cell_type": "code",
   "execution_count": 97,
   "metadata": {},
   "outputs": [
    {
     "data": {
      "text/plain": [
       "<matplotlib.axes._subplots.AxesSubplot at 0x26ad392a488>"
      ]
     },
     "execution_count": 97,
     "metadata": {},
     "output_type": "execute_result"
    },
    {
     "data": {
      "image/png": "[encoded data removed]",
      "text/plain": [
       "<Figure size 432x288 with 1 Axes>"
      ]
     },
     "metadata": {},
     "output_type": "display_data"
    }
   ],
   "source": [
    "ids.Rating.value_counts().plot(kind='pie')"
   ]
  },
  {
   "cell_type": "code",
   "execution_count": null,
   "metadata": {},
   "outputs": [],
   "source": []
  }
 ],
 "metadata": {
  "kernelspec": {
   "display_name": "Python 3",
   "language": "python",
   "name": "python3"
  },
  "language_info": {
   "codemirror_mode": {
    "name": "ipython",
    "version": 3
   },
   "file_extension": ".py",
   "mimetype": "text/x-python",
   "name": "python",
   "nbconvert_exporter": "python",
   "pygments_lexer": "ipython3",
   "version": "3.7.4"
  }
 },
 "nbformat": 4,
 "nbformat_minor": 4
}
